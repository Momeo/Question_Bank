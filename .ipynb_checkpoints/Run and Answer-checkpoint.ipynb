{
 "cells": [
  {
   "cell_type": "code",
   "execution_count": 3,
   "metadata": {
    "scrolled": true
   },
   "outputs": [
    {
     "name": "stdout",
     "output_type": "stream",
     "text": [
      "加载: /home/momeo/GIT/Jupyter_notebook/Qustion_Bank/question_files/question_coding.txt\n",
      "加载: /home/momeo/GIT/Jupyter_notebook/Qustion_Bank/question_files/question_DL.txt\n",
      "加载: /home/momeo/GIT/Jupyter_notebook/Qustion_Bank/question_files/question_unfinished.txt\n",
      "加载: /home/momeo/GIT/Jupyter_notebook/Qustion_Bank/question_files/question_3DVision.txt\n",
      "加载: /home/momeo/GIT/Jupyter_notebook/Qustion_Bank/question_files/question_ML.txt\n",
      "加载: /home/momeo/GIT/Jupyter_notebook/Qustion_Bank/question_files/question_math.txt\n"
     ]
    }
   ],
   "source": [
    "import os\n",
    "\n",
    "path = 'question_files'\n",
    "files = os.listdir(path)\n",
    "for file in files:\n",
    "        file = os.path.join(os.getcwd(), path) + '/' + file\n",
    "        print('加载:', file)"
   ]
  },
  {
   "cell_type": "code",
   "execution_count": null,
   "metadata": {},
   "outputs": [],
   "source": [
    "for file in files:\n",
    "        file = path + '/' + file\n",
    "        f = open(file, 'r')\n",
    "        "
   ]
  },
  {
   "cell_type": "code",
   "execution_count": null,
   "metadata": {},
   "outputs": [],
   "source": [
    "def get_songs(midi_path):\n",
    "    files = os.listdir(midi_path)\n",
    "    songs = []\n",
    "    for f in files:\n",
    "        f = midi_path + '/' + f\n",
    "        print('加载:', f)\n",
    "        try:\n",
    "            song = np.array(MidiConnector.midiToNoteStateMatrix(f))\n",
    "            if np.array(song).shape[0] > 64:\n",
    "                songs.append(song)\n",
    "        except Exception as e:\n",
    "            print('数据无效: ', e)\n",
    "    print(\"读取的有效midi文件个数: \", len(songs))\n",
    "    return songs"
   ]
  }
 ],
 "metadata": {
  "kernelspec": {
   "display_name": "Python 3",
   "language": "python",
   "name": "python3"
  },
  "language_info": {
   "codemirror_mode": {
    "name": "ipython",
    "version": 3
   },
   "file_extension": ".py",
   "mimetype": "text/x-python",
   "name": "python",
   "nbconvert_exporter": "python",
   "pygments_lexer": "ipython3",
   "version": "3.5.2"
  }
 },
 "nbformat": 4,
 "nbformat_minor": 2
}
