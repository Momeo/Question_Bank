{
 "cells": [
  {
   "cell_type": "code",
   "execution_count": 1,
   "metadata": {
    "scrolled": true
   },
   "outputs": [
    {
     "name": "stdout",
     "output_type": "stream",
     "text": [
      "加载: /home/momeo/GIT/Jupyter_notebook/Question_Bank/question_files/question_coding.txt\n",
      "加载: /home/momeo/GIT/Jupyter_notebook/Question_Bank/question_files/question_DL.txt\n",
      "加载: /home/momeo/GIT/Jupyter_notebook/Question_Bank/question_files/question_unfinished.txt\n",
      "加载: /home/momeo/GIT/Jupyter_notebook/Question_Bank/question_files/question_3DVision.txt\n",
      "加载: /home/momeo/GIT/Jupyter_notebook/Question_Bank/question_files/question_ML.txt\n",
      "加载: /home/momeo/GIT/Jupyter_notebook/Question_Bank/question_files/question_math.txt\n"
     ]
    }
   ],
   "source": [
    "import os\n",
    "\n",
    "path = 'question_files'\n",
    "files = os.listdir(path)\n",
    "l = []\n",
    "for file in files:\n",
    "        file = os.path.join(os.getcwd(), path) + '/' + file\n",
    "        print('加载:', file)\n",
    "        with open(file, 'r') as f:\n",
    "            l = l + (f.readlines())\n",
    "l = l[0::2]"
   ]
  },
  {
   "cell_type": "code",
   "execution_count": 5,
   "metadata": {},
   "outputs": [
    {
     "name": "stdout",
     "output_type": "stream",
     "text": [
      "决策树算法有哪些，随机森林和GBDT的区别\n",
      "\n",
      "为什么负梯度方向是使函数值下降最快的方向？简单数学推导一下 \n",
      "30 ）设计一个系统可以实时统计任意 ip 在过去一个小时的访问量；\n",
      "\n",
      "8 ） svm 为啥要引入拉格朗日的优化方法；\n",
      "\n",
      "CNN做卷积运算的复杂度。如果一个CNN网络的输入channel数目和卷积核数目都减半，总的计算量变为原来的多少？\n",
      "\n",
      "了解哪些寻优算法\n",
      "\n",
      "31 ）设计 LRU 系统；\n",
      "\n",
      "堆排序代码\n",
      "\n",
      "归并排序，二维排序数组搜索，中序遍历重构二叉树\n",
      "\n",
      "Linux 文件权限修改，参数介绍\n",
      "\n"
     ]
    },
    {
     "data": {
      "text/plain": [
       "[None, None, None, None, None, None, None, None, None, None]"
      ]
     },
     "execution_count": 5,
     "metadata": {},
     "output_type": "execute_result"
    }
   ],
   "source": [
    "import random as r\n",
    "[print(l[r.randint(0,len(l))]) for _ in range(10)]\n"
   ]
  },
  {
   "cell_type": "code",
   "execution_count": null,
   "metadata": {},
   "outputs": [],
   "source": []
  }
 ],
 "metadata": {
  "kernelspec": {
   "display_name": "Python 3",
   "language": "python",
   "name": "python3"
  },
  "language_info": {
   "codemirror_mode": {
    "name": "ipython",
    "version": 3
   },
   "file_extension": ".py",
   "mimetype": "text/x-python",
   "name": "python",
   "nbconvert_exporter": "python",
   "pygments_lexer": "ipython3",
   "version": "3.5.2"
  }
 },
 "nbformat": 4,
 "nbformat_minor": 2
}
